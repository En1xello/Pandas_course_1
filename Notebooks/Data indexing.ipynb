{
 "cells": [
  {
   "cell_type": "code",
   "execution_count": 2,
   "metadata": {},
   "outputs": [],
   "source": [
    "# импортируем библиотеки numpy и pandas\n",
    "import numpy as np\n",
    "import pandas as pd\n",
    "\n",
    "# импоритруем библиотеку datatime для работы с датами\n",
    "from datetime import datetime, date\n",
    "\n",
    "# Задаем некоторые опции библиотеки pandas, которые настраивают вывод\n",
    "# pd.set_option('display.notebook_repr_html', False)\n",
    "pd.set_option('display.max_columns', 8)  \n",
    "pd.set_option('display.max_rows', 10)\n",
    "pd.set_option('display.width', 80)\n",
    "\n",
    "# импортируем библиотеку matplotlib для построения графиков\n",
    "import matplotlib.pyplot as plt\n",
    "    #%matplotlib inline\n",
    "\n",
    "sp500 = pd.read_csv(\"C:/Python/Pandas/Notebooks/Data/sp500.csv\", index_col='Symbol', usecols=[0, 2, 3, 7])"
   ]
  },
  {
   "cell_type": "code",
   "execution_count": 5,
   "metadata": {},
   "outputs": [
    {
     "data": {
      "text/plain": [
       "        foo  key\n",
       "0  0.126970  100\n",
       "1  0.966718  101\n",
       "2  0.260476  102\n",
       "3  0.897237  103\n",
       "4  0.376750  104"
      ]
     },
     "execution_count": 5,
     "metadata": {},
     "output_type": "execute_result"
    }
   ],
   "source": [
    "# создаем DataFrame, состоящий из случайных чисел и столбца key\n",
    "np.random.seed(123456)\n",
    "df = pd.DataFrame({'foo': np.random.random(10000), 'key': range(100, 10100)})\n",
    "df[:5]"
   ]
  },
  {
   "cell_type": "code",
   "execution_count": 9,
   "metadata": {},
   "outputs": [
    {
     "data": {
      "text/plain": [
       "           foo    key\n",
       "9999  0.272283  10099"
      ]
     },
     "execution_count": 9,
     "metadata": {},
     "output_type": "execute_result"
    }
   ],
   "source": [
    "# отбираем строку, в которой значение столбца key равно 10099\n",
    "df[df.key==10099]"
   ]
  },
  {
   "cell_type": "code",
   "execution_count": 15,
   "metadata": {},
   "outputs": [
    {
     "name": "stdout",
     "output_type": "stream",
     "text": [
      "456 µs ± 8.82 µs per loop (mean ± std. dev. of 7 runs, 1,000 loops each)\n"
     ]
    }
   ],
   "source": [
    "# измеряем время выполнения операции отбора\n",
    "%timeit df[df.key==10099]"
   ]
  },
  {
   "cell_type": "code",
   "execution_count": 20,
   "metadata": {},
   "outputs": [
    {
     "data": {
      "text/plain": [
       "          foo\n",
       "key          \n",
       "100  0.126970\n",
       "101  0.966718\n",
       "102  0.260476\n",
       "103  0.897237\n",
       "104  0.376750"
      ]
     },
     "execution_count": 20,
     "metadata": {},
     "output_type": "execute_result"
    }
   ],
   "source": [
    "# превращаем столбец key в index\n",
    "df_with_index = df.set_index(['key'])\n",
    "df_with_index[:5]"
   ]
  },
  {
   "cell_type": "code",
   "execution_count": 22,
   "metadata": {},
   "outputs": [
    {
     "data": {
      "text/plain": [
       "foo    0.272283\n",
       "Name: 10099, dtype: float64"
      ]
     },
     "execution_count": 22,
     "metadata": {},
     "output_type": "execute_result"
    }
   ],
   "source": [
    "# теперь можно найти это значение с помощью индекса\n",
    "df_with_index.loc[10099]"
   ]
  },
  {
   "cell_type": "code",
   "execution_count": 24,
   "metadata": {},
   "outputs": [
    {
     "name": "stdout",
     "output_type": "stream",
     "text": [
      "83.9 µs ± 907 ns per loop (mean ± std. dev. of 7 runs, 10,000 loops each)\n"
     ]
    }
   ],
   "source": [
    "# и теперь эта опреция выполняется намного быстрее\n",
    "%timeit df_with_index.loc[10099]"
   ]
  },
  {
   "attachments": {},
   "cell_type": "markdown",
   "metadata": {},
   "source": [
    "# Типы индексов библиотеки pandas"
   ]
  },
  {
   "attachments": {},
   "cell_type": "markdown",
   "metadata": {},
   "source": [
    "Основной тип Index"
   ]
  },
  {
   "cell_type": "code",
   "execution_count": 26,
   "metadata": {},
   "outputs": [
    {
     "data": {
      "text/plain": [
       "           City  Temperature\n",
       "0      Missoula           70\n",
       "1  Philadelphia           80"
      ]
     },
     "execution_count": 26,
     "metadata": {},
     "output_type": "execute_result"
    }
   ],
   "source": [
    "# покажем, что столбцы фактически являются индексом\n",
    "temps = pd.DataFrame({\"City\": [\"Missoula\", \"Philadelphia\"], \"Temperature\": [70, 80]})\n",
    "temps"
   ]
  },
  {
   "cell_type": "code",
   "execution_count": 28,
   "metadata": {},
   "outputs": [
    {
     "data": {
      "text/plain": [
       "Index(['City', 'Temperature'], dtype='object')"
      ]
     },
     "execution_count": 28,
     "metadata": {},
     "output_type": "execute_result"
    }
   ],
   "source": [
    "# мы видим, что столбцы - это индекс\n",
    "temps.columns"
   ]
  },
  {
   "attachments": {},
   "cell_type": "markdown",
   "metadata": {},
   "source": [
    "Индексы Int64Index и RangeIndex, в качестве меток используется целые числа"
   ]
  },
  {
   "cell_type": "code",
   "execution_count": 32,
   "metadata": {},
   "outputs": [
    {
     "data": {
      "text/plain": [
       "    0\n",
       "0  10\n",
       "1  11\n",
       "2  12\n",
       "3  13\n",
       "4  14"
      ]
     },
     "execution_count": 32,
     "metadata": {},
     "output_type": "execute_result"
    }
   ],
   "source": [
    "# явно создаем Int64Index\n",
    "df_i64 = pd.DataFrame(np.arange(10, 20), index=np.arange(0, 10))\n",
    "df_i64[:5]"
   ]
  },
  {
   "cell_type": "code",
   "execution_count": 34,
   "metadata": {},
   "outputs": [
    {
     "data": {
      "text/plain": [
       "Int64Index([0, 1, 2, 3, 4, 5, 6, 7, 8, 9], dtype='int64')"
      ]
     },
     "execution_count": 34,
     "metadata": {},
     "output_type": "execute_result"
    }
   ],
   "source": [
    "# смотрим индекс\n",
    "df_i64.index"
   ]
  },
  {
   "cell_type": "code",
   "execution_count": 36,
   "metadata": {},
   "outputs": [
    {
     "data": {
      "text/plain": [
       "    0\n",
       "0  10\n",
       "1  11\n",
       "2  12\n",
       "3  13\n",
       "4  14"
      ]
     },
     "execution_count": 36,
     "metadata": {},
     "output_type": "execute_result"
    }
   ],
   "source": [
    "# по умолчанию мы получаем RangeIndex\n",
    "df_range = pd.DataFrame(np.arange(10, 15))\n",
    "df_range[:5]"
   ]
  },
  {
   "cell_type": "code",
   "execution_count": 38,
   "metadata": {},
   "outputs": [
    {
     "data": {
      "text/plain": [
       "RangeIndex(start=0, stop=5, step=1)"
      ]
     },
     "execution_count": 38,
     "metadata": {},
     "output_type": "execute_result"
    }
   ],
   "source": [
    "df_range.index"
   ]
  },
  {
   "attachments": {},
   "cell_type": "markdown",
   "metadata": {},
   "source": [
    "Индекс Float64Index, в качестве меток используется числа с плавающей точкой"
   ]
  },
  {
   "cell_type": "code",
   "execution_count": 41,
   "metadata": {},
   "outputs": [
    {
     "data": {
      "text/plain": [
       "      0\n",
       "0.0   0\n",
       "0.5   5\n",
       "1.0  10\n",
       "1.5  15\n",
       "2.0  20"
      ]
     },
     "execution_count": 41,
     "metadata": {},
     "output_type": "execute_result"
    }
   ],
   "source": [
    "# индексы, использующие Float64Index\n",
    "df_f64 = pd.DataFrame(np.arange(0, 1000, 5), np.arange(0.0, 100.0, 0.5))\n",
    "df_f64.iloc[:5]"
   ]
  },
  {
   "cell_type": "code",
   "execution_count": 43,
   "metadata": {},
   "outputs": [
    {
     "data": {
      "text/plain": [
       "Float64Index([ 0.0,  0.5,  1.0,  1.5,  2.0,  2.5,  3.0,  3.5,  4.0,  4.5,\n",
       "              ...\n",
       "              95.0, 95.5, 96.0, 96.5, 97.0, 97.5, 98.0, 98.5, 99.0, 99.5],\n",
       "             dtype='float64', length=200)"
      ]
     },
     "execution_count": 43,
     "metadata": {},
     "output_type": "execute_result"
    }
   ],
   "source": [
    "df_f64.index"
   ]
  },
  {
   "attachments": {},
   "cell_type": "markdown",
   "metadata": {},
   "source": [
    "Представление дискретных интервалов с использованияем IntervalIndex"
   ]
  },
  {
   "cell_type": "code",
   "execution_count": 45,
   "metadata": {},
   "outputs": [
    {
     "data": {
      "text/plain": [
       "            A\n",
       "(0.0, 0.5]  1\n",
       "(0.5, 1.0]  2\n",
       "(1.0, 1.5]  3\n",
       "(1.5, 2.0]  4"
      ]
     },
     "execution_count": 45,
     "metadata": {},
     "output_type": "execute_result"
    }
   ],
   "source": [
    "# датафрейм с IntervalIndex\n",
    "df_interval = pd.DataFrame({'A': [1, 2, 3, 4]}, index = pd.IntervalIndex.from_breaks([0, 0.5, 1.0, 1.5, 2.0]))\n",
    "df_interval"
   ]
  },
  {
   "cell_type": "code",
   "execution_count": 46,
   "metadata": {},
   "outputs": [
    {
     "data": {
      "text/plain": [
       "IntervalIndex([(0.0, 0.5], (0.5, 1.0], (1.0, 1.5], (1.5, 2.0]], dtype='interval[float64, right]')"
      ]
     },
     "execution_count": 46,
     "metadata": {},
     "output_type": "execute_result"
    }
   ],
   "source": [
    "df_interval.index"
   ]
  },
  {
   "attachments": {},
   "cell_type": "markdown",
   "metadata": {},
   "source": [
    "Категории в качсетве индекса - CategoricalIndex"
   ]
  },
  {
   "cell_type": "code",
   "execution_count": 66,
   "metadata": {},
   "outputs": [
    {
     "data": {
      "text/plain": [
       "   A  B\n",
       "0  0  a\n",
       "1  1  a\n",
       "2  2  b\n",
       "3  3  b\n",
       "4  4  c\n",
       "5  5  a"
      ]
     },
     "execution_count": 66,
     "metadata": {},
     "output_type": "execute_result"
    }
   ],
   "source": [
    "# создаем датафрейм со столбцом, имеющим тип Categorical\n",
    "df_categorical = pd.DataFrame({'A': np.arange(6), 'B': list('aabbca')})\n",
    "df_categorical['B'] = pd.Categorical(df_categorical['B'], categories=list('cab'))\n",
    "df_categorical"
   ]
  },
  {
   "attachments": {},
   "cell_type": "markdown",
   "metadata": {},
   "source": [
    "Индексация по датам и времени с помощью DatetimeIndex"
   ]
  },
  {
   "cell_type": "code",
   "execution_count": 69,
   "metadata": {},
   "outputs": [
    {
     "data": {
      "text/plain": [
       "2017-05-01 00:00:00   -0.449276\n",
       "2017-05-01 01:00:00    2.472977\n",
       "2017-05-01 02:00:00   -0.716023\n",
       "2017-05-01 03:00:00   -0.032915\n",
       "2017-05-01 04:00:00   -0.337780\n",
       "Freq: H, dtype: float64"
      ]
     },
     "execution_count": 69,
     "metadata": {},
     "output_type": "execute_result"
    }
   ],
   "source": [
    "# создаем DatetimeIndex на основе диапозона дат\n",
    "rng = pd.date_range('5/1/2017', periods=5, freq='H')\n",
    "ts = pd.Series(np.random.randn(len(rng)), index=rng)\n",
    "ts"
   ]
  },
  {
   "cell_type": "code",
   "execution_count": 71,
   "metadata": {},
   "outputs": [
    {
     "data": {
      "text/plain": [
       "DatetimeIndex(['2017-05-01 00:00:00', '2017-05-01 01:00:00',\n",
       "               '2017-05-01 02:00:00', '2017-05-01 03:00:00',\n",
       "               '2017-05-01 04:00:00'],\n",
       "              dtype='datetime64[ns]', freq='H')"
      ]
     },
     "execution_count": 71,
     "metadata": {},
     "output_type": "execute_result"
    }
   ],
   "source": [
    "ts.index"
   ]
  },
  {
   "attachments": {},
   "cell_type": "markdown",
   "metadata": {},
   "source": [
    "Индексация периодов времени с помощью PeriodIndex"
   ]
  },
  {
   "cell_type": "code",
   "execution_count": 73,
   "metadata": {},
   "outputs": [
    {
     "data": {
      "text/plain": [
       "PeriodIndex(['2017-01', '2017-02', '2017-03'], dtype='period[M]')"
      ]
     },
     "execution_count": 73,
     "metadata": {},
     "output_type": "execute_result"
    }
   ],
   "source": [
    "# явно создаем PeriodIndex\n",
    "periods= pd.PeriodIndex(['2017-1', '2017-2', '2017-3'], freq='M')\n",
    "periods"
   ]
  },
  {
   "cell_type": "code",
   "execution_count": 76,
   "metadata": {},
   "outputs": [
    {
     "data": {
      "text/plain": [
       "2017-01   -0.126246\n",
       "2017-02   -1.644070\n",
       "2017-03   -0.700213\n",
       "Freq: M, dtype: float64"
      ]
     },
     "execution_count": 76,
     "metadata": {},
     "output_type": "execute_result"
    }
   ],
   "source": [
    "# используем индекс в серии\n",
    "period_series = pd.Series(np.random.randn(len(periods)), index=periods)\n",
    "period_series "
   ]
  },
  {
   "attachments": {},
   "cell_type": "markdown",
   "metadata": {},
   "source": [
    "# Работа с индексами"
   ]
  },
  {
   "attachments": {},
   "cell_type": "markdown",
   "metadata": {},
   "source": [
    "Создание индекса в объекте Series или объекте DataFrame"
   ]
  },
  {
   "cell_type": "code",
   "execution_count": 78,
   "metadata": {},
   "outputs": [
    {
     "data": {
      "text/plain": [
       "DatetimeIndex(['2017-05-01 00:00:00', '2017-05-01 01:00:00',\n",
       "               '2017-05-01 02:00:00', '2017-05-01 03:00:00',\n",
       "               '2017-05-01 04:00:00'],\n",
       "              dtype='datetime64[ns]', freq='H')"
      ]
     },
     "execution_count": 78,
     "metadata": {},
     "output_type": "execute_result"
    }
   ],
   "source": [
    "# создаем DatetimeIndex\n",
    "date_times = pd.DatetimeIndex(pd.date_range('5/1/2017', periods=5, freq='H'))\n",
    "date_times"
   ]
  },
  {
   "cell_type": "code",
   "execution_count": 81,
   "metadata": {},
   "outputs": [
    {
     "data": {
      "text/plain": [
       "                     0\n",
       "2017-05-01 00:00:00  0\n",
       "2017-05-01 01:00:00  1\n",
       "2017-05-01 02:00:00  2\n",
       "2017-05-01 03:00:00  3\n",
       "2017-05-01 04:00:00  4"
      ]
     },
     "execution_count": 81,
     "metadata": {},
     "output_type": "execute_result"
    }
   ],
   "source": [
    "# создаем объект DateFrame, используя индекс\n",
    "df_date_time = pd.DataFrame(np.arange(0, len(date_times)), index=date_times)\n",
    "df_date_time"
   ]
  },
  {
   "cell_type": "code",
   "execution_count": 83,
   "metadata": {},
   "outputs": [
    {
     "data": {
      "text/plain": [
       "                     0\n",
       "2017-06-01 00:00:00  0\n",
       "2017-06-01 01:00:00  1\n",
       "2017-06-01 02:00:00  2\n",
       "2017-06-01 03:00:00  3\n",
       "2017-06-01 04:00:00  4"
      ]
     },
     "execution_count": 83,
     "metadata": {},
     "output_type": "execute_result"
    }
   ],
   "source": [
    "# задаем индекс датафрейму\n",
    "df_date_time.index = pd.DatetimeIndex(pd.date_range('6/1/2017', periods=5, freq='H'))\n",
    "df_date_time"
   ]
  },
  {
   "attachments": {},
   "cell_type": "markdown",
   "metadata": {},
   "source": [
    "Отбор значений с помощью индекса"
   ]
  },
  {
   "attachments": {},
   "cell_type": "markdown",
   "metadata": {},
   "source": [
    "# 1"
   ]
  },
  {
   "cell_type": "code",
   "execution_count": 85,
   "metadata": {},
   "outputs": [
    {
     "data": {
      "text/plain": [
       "a    0\n",
       "b    1\n",
       "c    2\n",
       "d    3\n",
       "e    4\n",
       "dtype: int32"
      ]
     },
     "execution_count": 85,
     "metadata": {},
     "output_type": "execute_result"
    }
   ],
   "source": [
    "# создаем серию\n",
    "s = pd.Series(np.arange(0, 5), index=list('abcde'))\n",
    "s"
   ]
  },
  {
   "cell_type": "code",
   "execution_count": 87,
   "metadata": {},
   "outputs": [
    {
     "data": {
      "text/plain": [
       "1"
      ]
     },
     "execution_count": 87,
     "metadata": {},
     "output_type": "execute_result"
    }
   ],
   "source": [
    "# ищем по метке индекса\n",
    "s['b']"
   ]
  },
  {
   "cell_type": "code",
   "execution_count": 89,
   "metadata": {},
   "outputs": [
    {
     "data": {
      "text/plain": [
       "1"
      ]
     },
     "execution_count": 89,
     "metadata": {},
     "output_type": "execute_result"
    }
   ],
   "source": [
    "# явно ищем по метке индекса\n",
    "s.loc['b']"
   ]
  },
  {
   "attachments": {},
   "cell_type": "markdown",
   "metadata": {},
   "source": [
    "# 2"
   ]
  },
  {
   "cell_type": "code",
   "execution_count": 91,
   "metadata": {},
   "outputs": [
    {
     "data": {
      "text/plain": [
       "    a   b\n",
       "v  10  11\n",
       "w  12  13"
      ]
     },
     "execution_count": 91,
     "metadata": {},
     "output_type": "execute_result"
    }
   ],
   "source": [
    "# создаем датафрейм с двумя столбцами\n",
    "df = pd.DataFrame([np.arange(10, 12), np.arange(12, 14)], columns=list('ab'), index=list('vw'))\n",
    "df"
   ]
  },
  {
   "cell_type": "code",
   "execution_count": 93,
   "metadata": {},
   "outputs": [
    {
     "data": {
      "text/plain": [
       "v    10\n",
       "w    12\n",
       "Name: a, dtype: int32"
      ]
     },
     "execution_count": 93,
     "metadata": {},
     "output_type": "execute_result"
    }
   ],
   "source": [
    "# эта строка возвращает столбец 'a'\n",
    "df['a']"
   ]
  },
  {
   "cell_type": "code",
   "execution_count": 95,
   "metadata": {},
   "outputs": [
    {
     "data": {
      "text/plain": [
       "a    12\n",
       "b    13\n",
       "Name: w, dtype: int32"
      ]
     },
     "execution_count": 95,
     "metadata": {},
     "output_type": "execute_result"
    }
   ],
   "source": [
    "# возвращает строку 'w' по метке\n",
    "df.loc['w']"
   ]
  },
  {
   "attachments": {},
   "cell_type": "markdown",
   "metadata": {},
   "source": [
    "# 3"
   ]
  },
  {
   "cell_type": "code",
   "execution_count": 97,
   "metadata": {},
   "outputs": [
    {
     "data": {
      "text/plain": [
       "b    1\n",
       "c    2\n",
       "d    3\n",
       "dtype: int32"
      ]
     },
     "execution_count": 97,
     "metadata": {},
     "output_type": "execute_result"
    }
   ],
   "source": [
    "# создаем срез серии от метки b До метки d\n",
    "s['b':'d']"
   ]
  },
  {
   "cell_type": "code",
   "execution_count": 99,
   "metadata": {},
   "outputs": [
    {
     "data": {
      "text/plain": [
       "a    0\n",
       "c    2\n",
       "e    4\n",
       "dtype: int32"
      ]
     },
     "execution_count": 99,
     "metadata": {},
     "output_type": "execute_result"
    }
   ],
   "source": [
    "# ищем строки по метке\n",
    "s.loc[['a', 'c', 'e']]"
   ]
  },
  {
   "attachments": {},
   "cell_type": "markdown",
   "metadata": {},
   "source": [
    "# Преобразоание данных в индекс и получение данных из индекса"
   ]
  },
  {
   "cell_type": "code",
   "execution_count": 101,
   "metadata": {},
   "outputs": [
    {
     "data": {
      "text/plain": [
       "                        Sector   Price  Book Value\n",
       "Symbol                                            \n",
       "MMM                Industrials  141.14      26.668\n",
       "ABT                Health Care   39.60      15.573\n",
       "ABBV               Health Care   53.95       2.954\n",
       "ACN     Information Technology   79.79       8.326\n",
       "ACE                 Financials  102.91      86.897"
      ]
     },
     "execution_count": 101,
     "metadata": {},
     "output_type": "execute_result"
    }
   ],
   "source": [
    "# исследуем несколько срок датафрейма sp500 \n",
    "sp500[:5]"
   ]
  },
  {
   "cell_type": "code",
   "execution_count": 103,
   "metadata": {},
   "outputs": [
    {
     "data": {
      "text/plain": [
       "  Symbol                  Sector   Price  Book Value\n",
       "0    MMM             Industrials  141.14      26.668\n",
       "1    ABT             Health Care   39.60      15.573\n",
       "2   ABBV             Health Care   53.95       2.954\n",
       "3    ACN  Information Technology   79.79       8.326\n",
       "4    ACE              Financials  102.91      86.897"
      ]
     },
     "execution_count": 103,
     "metadata": {},
     "output_type": "execute_result"
    }
   ],
   "source": [
    "# сбрасываем индекс, помещая значения индекса в столбец\n",
    "index_moved_to_col = sp500.reset_index()\n",
    "index_moved_to_col[:5]"
   ]
  },
  {
   "cell_type": "code",
   "execution_count": 105,
   "metadata": {},
   "outputs": [
    {
     "data": {
      "text/plain": [
       "                       Symbol   Price  Book Value\n",
       "Sector                                           \n",
       "Industrials               MMM  141.14      26.668\n",
       "Health Care               ABT   39.60      15.573\n",
       "Health Care              ABBV   53.95       2.954\n",
       "Information Technology    ACN   79.79       8.326\n",
       "Financials                ACE  102.91      86.897"
      ]
     },
     "execution_count": 105,
     "metadata": {},
     "output_type": "execute_result"
    }
   ],
   "source": [
    "# делаем столбец Sector индексом\n",
    "index_moved_to_col.set_index('Sector')[:5]"
   ]
  },
  {
   "attachments": {},
   "cell_type": "markdown",
   "metadata": {},
   "source": [
    "Переиндексация объекта библиотеки pandas"
   ]
  },
  {
   "cell_type": "code",
   "execution_count": 107,
   "metadata": {},
   "outputs": [
    {
     "data": {
      "text/plain": [
       "             Sector   Price  Book Value\n",
       "Symbol                                 \n",
       "MMM     Industrials  141.14      26.668\n",
       "ABBV    Health Care   53.95       2.954\n",
       "FOO             NaN     NaN         NaN"
      ]
     },
     "execution_count": 107,
     "metadata": {},
     "output_type": "execute_result"
    }
   ],
   "source": [
    "# делаем переиндксациию, задав метки MMM, ABBV И FOO\n",
    "reindexed = sp500.reindex(index=['MMM', 'ABBV', 'FOO'])\n",
    "# обратите внимание, что ABT и ACN удалены, а FOO содержит значения NaN\n",
    "reindexed"
   ]
  },
  {
   "cell_type": "code",
   "execution_count": 110,
   "metadata": {},
   "outputs": [
    {
     "data": {
      "text/plain": [
       "         Price  Book Value  NewCol\n",
       "Symbol                            \n",
       "MMM     141.14      26.668     NaN\n",
       "ABT      39.60      15.573     NaN\n",
       "ABBV     53.95       2.954     NaN\n",
       "ACN      79.79       8.326     NaN\n",
       "ACE     102.91      86.897     NaN"
      ]
     },
     "execution_count": 110,
     "metadata": {},
     "output_type": "execute_result"
    }
   ],
   "source": [
    "# выполняем периндексацию столбов\n",
    "sp500.reindex(columns=['Price', 'Book Value', 'NewCol'])[:5]"
   ]
  },
  {
   "attachments": {},
   "cell_type": "markdown",
   "metadata": {},
   "source": [
    "# Иерархическая индексация"
   ]
  },
  {
   "cell_type": "code",
   "execution_count": 5,
   "metadata": {},
   "outputs": [
    {
     "data": {
      "text/html": [
       "<div>\n",
       "<style scoped>\n",
       "    .dataframe tbody tr th:only-of-type {\n",
       "        vertical-align: middle;\n",
       "    }\n",
       "\n",
       "    .dataframe tbody tr th {\n",
       "        vertical-align: top;\n",
       "    }\n",
       "\n",
       "    .dataframe thead th {\n",
       "        text-align: right;\n",
       "    }\n",
       "</style>\n",
       "<table border=\"1\" class=\"dataframe\">\n",
       "  <thead>\n",
       "    <tr style=\"text-align: right;\">\n",
       "      <th></th>\n",
       "      <th></th>\n",
       "      <th>Price</th>\n",
       "      <th>Book Value</th>\n",
       "    </tr>\n",
       "    <tr>\n",
       "      <th>Sector</th>\n",
       "      <th>Symbol</th>\n",
       "      <th></th>\n",
       "      <th></th>\n",
       "    </tr>\n",
       "  </thead>\n",
       "  <tbody>\n",
       "    <tr>\n",
       "      <th>Industrials</th>\n",
       "      <th>MMM</th>\n",
       "      <td>141.14</td>\n",
       "      <td>26.668</td>\n",
       "    </tr>\n",
       "    <tr>\n",
       "      <th rowspan=\"2\" valign=\"top\">Health Care</th>\n",
       "      <th>ABT</th>\n",
       "      <td>39.60</td>\n",
       "      <td>15.573</td>\n",
       "    </tr>\n",
       "    <tr>\n",
       "      <th>ABBV</th>\n",
       "      <td>53.95</td>\n",
       "      <td>2.954</td>\n",
       "    </tr>\n",
       "    <tr>\n",
       "      <th>Information Technology</th>\n",
       "      <th>ACN</th>\n",
       "      <td>79.79</td>\n",
       "      <td>8.326</td>\n",
       "    </tr>\n",
       "    <tr>\n",
       "      <th>Financials</th>\n",
       "      <th>ACE</th>\n",
       "      <td>102.91</td>\n",
       "      <td>86.897</td>\n",
       "    </tr>\n",
       "  </tbody>\n",
       "</table>\n",
       "</div>"
      ],
      "text/plain": [
       "                                Price  Book Value\n",
       "Sector                 Symbol                    \n",
       "Industrials            MMM     141.14      26.668\n",
       "Health Care            ABT      39.60      15.573\n",
       "                       ABBV     53.95       2.954\n",
       "Information Technology ACN      79.79       8.326\n",
       "Financials             ACE     102.91      86.897"
      ]
     },
     "execution_count": 5,
     "metadata": {},
     "output_type": "execute_result"
    }
   ],
   "source": [
    "# сначала помещаем символы в столбец\n",
    "reindexed = sp500.reset_index()\n",
    "# а теперь индексируем датафрейм sp500 по столбцам Sector и Symbol\n",
    "multi_fi = reindexed.set_index(['Sector', 'Symbol'])\n",
    "multi_fi[:5]"
   ]
  },
  {
   "cell_type": "code",
   "execution_count": 7,
   "metadata": {},
   "outputs": [
    {
     "data": {
      "text/html": [
       "<div>\n",
       "<style scoped>\n",
       "    .dataframe tbody tr th:only-of-type {\n",
       "        vertical-align: middle;\n",
       "    }\n",
       "\n",
       "    .dataframe tbody tr th {\n",
       "        vertical-align: top;\n",
       "    }\n",
       "\n",
       "    .dataframe thead th {\n",
       "        text-align: right;\n",
       "    }\n",
       "</style>\n",
       "<table border=\"1\" class=\"dataframe\">\n",
       "  <thead>\n",
       "    <tr style=\"text-align: right;\">\n",
       "      <th></th>\n",
       "      <th>Symbol</th>\n",
       "      <th>Sector</th>\n",
       "      <th>Price</th>\n",
       "      <th>Book Value</th>\n",
       "    </tr>\n",
       "  </thead>\n",
       "  <tbody>\n",
       "    <tr>\n",
       "      <th>0</th>\n",
       "      <td>MMM</td>\n",
       "      <td>Industrials</td>\n",
       "      <td>141.14</td>\n",
       "      <td>26.668</td>\n",
       "    </tr>\n",
       "    <tr>\n",
       "      <th>1</th>\n",
       "      <td>ABT</td>\n",
       "      <td>Health Care</td>\n",
       "      <td>39.60</td>\n",
       "      <td>15.573</td>\n",
       "    </tr>\n",
       "    <tr>\n",
       "      <th>2</th>\n",
       "      <td>ABBV</td>\n",
       "      <td>Health Care</td>\n",
       "      <td>53.95</td>\n",
       "      <td>2.954</td>\n",
       "    </tr>\n",
       "    <tr>\n",
       "      <th>3</th>\n",
       "      <td>ACN</td>\n",
       "      <td>Information Technology</td>\n",
       "      <td>79.79</td>\n",
       "      <td>8.326</td>\n",
       "    </tr>\n",
       "    <tr>\n",
       "      <th>4</th>\n",
       "      <td>ACE</td>\n",
       "      <td>Financials</td>\n",
       "      <td>102.91</td>\n",
       "      <td>86.897</td>\n",
       "    </tr>\n",
       "  </tbody>\n",
       "</table>\n",
       "</div>"
      ],
      "text/plain": [
       "  Symbol                  Sector   Price  Book Value\n",
       "0    MMM             Industrials  141.14      26.668\n",
       "1    ABT             Health Care   39.60      15.573\n",
       "2   ABBV             Health Care   53.95       2.954\n",
       "3    ACN  Information Technology   79.79       8.326\n",
       "4    ACE              Financials  102.91      86.897"
      ]
     },
     "execution_count": 7,
     "metadata": {},
     "output_type": "execute_result"
    }
   ],
   "source": [
    "reindexed[:5]"
   ]
  },
  {
   "cell_type": "code",
   "execution_count": 116,
   "metadata": {},
   "outputs": [
    {
     "data": {
      "text/plain": [
       "pandas.core.indexes.multi.MultiIndex"
      ]
     },
     "execution_count": 116,
     "metadata": {},
     "output_type": "execute_result"
    }
   ],
   "source": [
    "# наш индекс - MultiIndex\n",
    "type(multi_fi.index)"
   ]
  },
  {
   "cell_type": "code",
   "execution_count": 119,
   "metadata": {},
   "outputs": [
    {
     "data": {
      "text/plain": [
       "2"
      ]
     },
     "execution_count": 119,
     "metadata": {},
     "output_type": "execute_result"
    }
   ],
   "source": [
    "# он имеет 2 уровня\n",
    "len(multi_fi.index.levels)"
   ]
  },
  {
   "cell_type": "code",
   "execution_count": 121,
   "metadata": {},
   "outputs": [
    {
     "data": {
      "text/plain": [
       "Index(['A', 'AA', 'AAPL', 'ABBV', 'ABC', 'ABT', 'ACE', 'ACN', 'ACT', 'ADBE',\n",
       "       ...\n",
       "       'XLNX', 'XOM', 'XRAY', 'XRX', 'XYL', 'YHOO', 'YUM', 'ZION', 'ZMH',\n",
       "       'ZTS'],\n",
       "      dtype='object', name='Symbol', length=500)"
      ]
     },
     "execution_count": 121,
     "metadata": {},
     "output_type": "execute_result"
    }
   ],
   "source": [
    "# каждый уровень индекса - индекс\n",
    "multi_fi.index.levels[1]"
   ]
  },
  {
   "cell_type": "code",
   "execution_count": 123,
   "metadata": {},
   "outputs": [
    {
     "data": {
      "text/plain": [
       "Index(['Industrials', 'Health Care', 'Health Care', 'Information Technology',\n",
       "       'Financials', 'Health Care', 'Information Technology', 'Utilities',\n",
       "       'Health Care', 'Financials',\n",
       "       ...\n",
       "       'Utilities', 'Information Technology', 'Information Technology',\n",
       "       'Financials', 'Industrials', 'Information Technology',\n",
       "       'Consumer Discretionary', 'Health Care', 'Financials', 'Health Care'],\n",
       "      dtype='object', name='Sector', length=500)"
      ]
     },
     "execution_count": 123,
     "metadata": {},
     "output_type": "execute_result"
    }
   ],
   "source": [
    "# значения в уровне индекса 0\n",
    "multi_fi.index.get_level_values(0)"
   ]
  },
  {
   "cell_type": "code",
   "execution_count": 125,
   "metadata": {},
   "outputs": [
    {
     "data": {
      "text/plain": [
       "         Price  Book Value\n",
       "Symbol                    \n",
       "MMM     141.14      26.668\n",
       "ALLE     52.46       0.000\n",
       "APH      95.71      18.315\n",
       "AVY      48.20      15.616\n",
       "BA      132.41      19.870"
      ]
     },
     "execution_count": 125,
     "metadata": {},
     "output_type": "execute_result"
    }
   ],
   "source": [
    "# получаем все акции, которые имеют значение Industrials\n",
    "# обратите внимание, что в результатах индекс уровня 0 не выводится\n",
    "multi_fi.xs('Industrials')[:5]"
   ]
  },
  {
   "cell_type": "code",
   "execution_count": 126,
   "metadata": {},
   "outputs": [
    {
     "data": {
      "text/plain": [
       "             Price  Book Value\n",
       "Sector                        \n",
       "Industrials  52.46         0.0"
      ]
     },
     "execution_count": 126,
     "metadata": {},
     "output_type": "execute_result"
    }
   ],
   "source": [
    "# отбираем строки, в которых индекс уровня 1(Symbol) имеет значение ALLE\n",
    "# обратите внимание, что в результатах индекс уровня 1(Symbol) не выводится\n",
    "multi_fi.xs('ALLE', level=1)"
   ]
  },
  {
   "cell_type": "code",
   "execution_count": 128,
   "metadata": {},
   "outputs": [
    {
     "data": {
      "text/plain": [
       "                     Price  Book Value\n",
       "Sector      Symbol                    \n",
       "Industrials MMM     141.14      26.668\n",
       "            ALLE     52.46       0.000\n",
       "            APH      95.71      18.315\n",
       "            AVY      48.20      15.616\n",
       "            BA      132.41      19.870"
      ]
     },
     "execution_count": 128,
     "metadata": {},
     "output_type": "execute_result"
    }
   ],
   "source": [
    "# отбираем строки, в которых индекс уровня 0\n",
    "# Sector имеет значение Industrials без удаления уровней\n",
    "multi_fi.xs('Industrials', drop_level=False)[:5]"
   ]
  },
  {
   "cell_type": "code",
   "execution_count": 130,
   "metadata": {},
   "outputs": [
    {
     "data": {
      "text/plain": [
       "Price         102.73\n",
       "Book Value      6.79\n",
       "Name: UPS, dtype: float64"
      ]
     },
     "execution_count": 130,
     "metadata": {},
     "output_type": "execute_result"
    }
   ],
   "source": [
    "# скомбинируем уровни индексов\n",
    "multi_fi.xs('Industrials').xs('UPS') "
   ]
  },
  {
   "cell_type": "code",
   "execution_count": 131,
   "metadata": {},
   "outputs": [
    {
     "data": {
      "text/plain": [
       "Price         102.73\n",
       "Book Value      6.79\n",
       "Name: (Industrials, UPS), dtype: float64"
      ]
     },
     "execution_count": 131,
     "metadata": {},
     "output_type": "execute_result"
    }
   ],
   "source": [
    "# комбинируем уровни индексов, используя кортеж\n",
    "multi_fi.xs(('Industrials', 'UPS'))"
   ]
  }
 ],
 "metadata": {
  "kernelspec": {
   "display_name": "venv",
   "language": "python",
   "name": "python3"
  },
  "language_info": {
   "codemirror_mode": {
    "name": "ipython",
    "version": 3
   },
   "file_extension": ".py",
   "mimetype": "text/x-python",
   "name": "python",
   "nbconvert_exporter": "python",
   "pygments_lexer": "ipython3",
   "version": "3.9.12 (main, Apr  4 2022, 05:22:27) [MSC v.1916 64 bit (AMD64)]"
  },
  "orig_nbformat": 4,
  "vscode": {
   "interpreter": {
    "hash": "add029b6b5fb506bce5c34c273974f3fb832bbf38c99150af7dfaf3b4f57e09e"
   }
  }
 },
 "nbformat": 4,
 "nbformat_minor": 2
}
