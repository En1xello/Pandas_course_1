{
 "cells": [
  {
   "attachments": {},
   "cell_type": "markdown",
   "metadata": {},
   "source": [
    "- Категориальная переменная(categorical variable) - это переменная, котрорая может принимать одно \n",
    "значение из ограниченного и обычно фиксированного набора возможных значений.\n",
    "- Непрерывная переменная(continuous variable) - это переменная, которая может принимать бесконечное \n",
    "кол-во значений \n",
    "- Корреляция - это число, которое описывает степень взаимосвязи между двумя переменными\n",
    "- Регрессия - это статистический метод, который оценивает силу взаимосвязи между зависимой перемнной\n",
    " и рядом других переменных"
   ]
  }
 ],
 "metadata": {
  "kernelspec": {
   "display_name": "Python 3.9.12 ('venv': venv)",
   "language": "python",
   "name": "python3"
  },
  "language_info": {
   "name": "python",
   "version": "3.9.12 (main, Apr  4 2022, 05:22:27) [MSC v.1916 64 bit (AMD64)]"
  },
  "orig_nbformat": 4,
  "vscode": {
   "interpreter": {
    "hash": "add029b6b5fb506bce5c34c273974f3fb832bbf38c99150af7dfaf3b4f57e09e"
   }
  }
 },
 "nbformat": 4,
 "nbformat_minor": 2
}
